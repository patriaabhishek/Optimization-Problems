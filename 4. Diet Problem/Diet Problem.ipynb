{
 "cells": [
  {
   "cell_type": "code",
   "execution_count": 1,
   "metadata": {},
   "outputs": [],
   "source": [
    "from pulp import *\n",
    "import pandas as pd\n",
    "import numpy as np\n",
    "import os"
   ]
  },
  {
   "cell_type": "code",
   "execution_count": 2,
   "metadata": {},
   "outputs": [
    {
     "data": {
      "text/plain": [
       "'/Users/kunaal/Georgia Tech/Bootcamp'"
      ]
     },
     "execution_count": 2,
     "metadata": {},
     "output_type": "execute_result"
    }
   ],
   "source": [
    "pwd()"
   ]
  },
  {
   "cell_type": "code",
   "execution_count": 3,
   "metadata": {},
   "outputs": [],
   "source": [
    "os.chdir('/Users/kunaal/Georgia Tech/Fall 2019/Analytics Modeling/HW11/hw11/')"
   ]
  },
  {
   "cell_type": "code",
   "execution_count": 4,
   "metadata": {},
   "outputs": [],
   "source": [
    "diet = pd.read_excel('Data 15.2/diet.xls', nrows=64)\n",
    "\n",
    "diet_large = pd.read_excel('Data 15.2/diet_large.xls', skiprows = 1)"
   ]
  },
  {
   "cell_type": "code",
   "execution_count": 5,
   "metadata": {},
   "outputs": [
    {
     "data": {
      "text/html": [
       "<div>\n",
       "<style scoped>\n",
       "    .dataframe tbody tr th:only-of-type {\n",
       "        vertical-align: middle;\n",
       "    }\n",
       "\n",
       "    .dataframe tbody tr th {\n",
       "        vertical-align: top;\n",
       "    }\n",
       "\n",
       "    .dataframe thead th {\n",
       "        text-align: right;\n",
       "    }\n",
       "</style>\n",
       "<table border=\"1\" class=\"dataframe\">\n",
       "  <thead>\n",
       "    <tr style=\"text-align: right;\">\n",
       "      <th></th>\n",
       "      <th>Foods</th>\n",
       "      <th>Price/ Serving</th>\n",
       "      <th>Serving Size</th>\n",
       "      <th>Calories</th>\n",
       "      <th>Cholesterol mg</th>\n",
       "      <th>Total_Fat g</th>\n",
       "      <th>Sodium mg</th>\n",
       "      <th>Carbohydrates g</th>\n",
       "      <th>Dietary_Fiber g</th>\n",
       "      <th>Protein g</th>\n",
       "      <th>Vit_A IU</th>\n",
       "      <th>Vit_C IU</th>\n",
       "      <th>Calcium mg</th>\n",
       "      <th>Iron mg</th>\n",
       "    </tr>\n",
       "  </thead>\n",
       "  <tbody>\n",
       "    <tr>\n",
       "      <td>0</td>\n",
       "      <td>Frozen Broccoli</td>\n",
       "      <td>0.16</td>\n",
       "      <td>10 Oz Pkg</td>\n",
       "      <td>73.8</td>\n",
       "      <td>0.0</td>\n",
       "      <td>0.8</td>\n",
       "      <td>68.2</td>\n",
       "      <td>13.6</td>\n",
       "      <td>8.5</td>\n",
       "      <td>8.0</td>\n",
       "      <td>5867.4</td>\n",
       "      <td>160.2</td>\n",
       "      <td>159.0</td>\n",
       "      <td>2.3</td>\n",
       "    </tr>\n",
       "    <tr>\n",
       "      <td>1</td>\n",
       "      <td>Carrots,Raw</td>\n",
       "      <td>0.07</td>\n",
       "      <td>1/2 Cup Shredded</td>\n",
       "      <td>23.7</td>\n",
       "      <td>0.0</td>\n",
       "      <td>0.1</td>\n",
       "      <td>19.2</td>\n",
       "      <td>5.6</td>\n",
       "      <td>1.6</td>\n",
       "      <td>0.6</td>\n",
       "      <td>15471.0</td>\n",
       "      <td>5.1</td>\n",
       "      <td>14.9</td>\n",
       "      <td>0.3</td>\n",
       "    </tr>\n",
       "    <tr>\n",
       "      <td>2</td>\n",
       "      <td>Celery, Raw</td>\n",
       "      <td>0.04</td>\n",
       "      <td>1 Stalk</td>\n",
       "      <td>6.4</td>\n",
       "      <td>0.0</td>\n",
       "      <td>0.1</td>\n",
       "      <td>34.8</td>\n",
       "      <td>1.5</td>\n",
       "      <td>0.7</td>\n",
       "      <td>0.3</td>\n",
       "      <td>53.6</td>\n",
       "      <td>2.8</td>\n",
       "      <td>16.0</td>\n",
       "      <td>0.2</td>\n",
       "    </tr>\n",
       "    <tr>\n",
       "      <td>3</td>\n",
       "      <td>Frozen Corn</td>\n",
       "      <td>0.18</td>\n",
       "      <td>1/2 Cup</td>\n",
       "      <td>72.2</td>\n",
       "      <td>0.0</td>\n",
       "      <td>0.6</td>\n",
       "      <td>2.5</td>\n",
       "      <td>17.1</td>\n",
       "      <td>2.0</td>\n",
       "      <td>2.5</td>\n",
       "      <td>106.6</td>\n",
       "      <td>5.2</td>\n",
       "      <td>3.3</td>\n",
       "      <td>0.3</td>\n",
       "    </tr>\n",
       "    <tr>\n",
       "      <td>4</td>\n",
       "      <td>Lettuce,Iceberg,Raw</td>\n",
       "      <td>0.02</td>\n",
       "      <td>1 Leaf</td>\n",
       "      <td>2.6</td>\n",
       "      <td>0.0</td>\n",
       "      <td>0.0</td>\n",
       "      <td>1.8</td>\n",
       "      <td>0.4</td>\n",
       "      <td>0.3</td>\n",
       "      <td>0.2</td>\n",
       "      <td>66.0</td>\n",
       "      <td>0.8</td>\n",
       "      <td>3.8</td>\n",
       "      <td>0.1</td>\n",
       "    </tr>\n",
       "  </tbody>\n",
       "</table>\n",
       "</div>"
      ],
      "text/plain": [
       "                 Foods  Price/ Serving      Serving Size  Calories  \\\n",
       "0      Frozen Broccoli            0.16         10 Oz Pkg      73.8   \n",
       "1          Carrots,Raw            0.07  1/2 Cup Shredded      23.7   \n",
       "2          Celery, Raw            0.04           1 Stalk       6.4   \n",
       "3          Frozen Corn            0.18           1/2 Cup      72.2   \n",
       "4  Lettuce,Iceberg,Raw            0.02            1 Leaf       2.6   \n",
       "\n",
       "   Cholesterol mg  Total_Fat g  Sodium mg  Carbohydrates g  Dietary_Fiber g  \\\n",
       "0             0.0          0.8       68.2             13.6              8.5   \n",
       "1             0.0          0.1       19.2              5.6              1.6   \n",
       "2             0.0          0.1       34.8              1.5              0.7   \n",
       "3             0.0          0.6        2.5             17.1              2.0   \n",
       "4             0.0          0.0        1.8              0.4              0.3   \n",
       "\n",
       "   Protein g  Vit_A IU  Vit_C IU  Calcium mg  Iron mg  \n",
       "0        8.0    5867.4     160.2       159.0      2.3  \n",
       "1        0.6   15471.0       5.1        14.9      0.3  \n",
       "2        0.3      53.6       2.8        16.0      0.2  \n",
       "3        2.5     106.6       5.2         3.3      0.3  \n",
       "4        0.2      66.0       0.8         3.8      0.1  "
      ]
     },
     "execution_count": 5,
     "metadata": {},
     "output_type": "execute_result"
    }
   ],
   "source": [
    "diet.head()"
   ]
  },
  {
   "cell_type": "code",
   "execution_count": 6,
   "metadata": {},
   "outputs": [
    {
     "data": {
      "text/html": [
       "<div>\n",
       "<style scoped>\n",
       "    .dataframe tbody tr th:only-of-type {\n",
       "        vertical-align: middle;\n",
       "    }\n",
       "\n",
       "    .dataframe tbody tr th {\n",
       "        vertical-align: top;\n",
       "    }\n",
       "\n",
       "    .dataframe thead th {\n",
       "        text-align: right;\n",
       "    }\n",
       "</style>\n",
       "<table border=\"1\" class=\"dataframe\">\n",
       "  <thead>\n",
       "    <tr style=\"text-align: right;\">\n",
       "      <th></th>\n",
       "      <th>Long_Desc</th>\n",
       "      <th>Protein</th>\n",
       "      <th>Carbohydrate, by difference</th>\n",
       "      <th>Energy</th>\n",
       "      <th>Water</th>\n",
       "      <th>Energy.1</th>\n",
       "      <th>Calcium, Ca</th>\n",
       "      <th>Iron, Fe</th>\n",
       "      <th>Magnesium, Mg</th>\n",
       "      <th>Phosphorus, P</th>\n",
       "      <th>...</th>\n",
       "      <th>Riboflavin</th>\n",
       "      <th>Niacin</th>\n",
       "      <th>Pantothenic acid</th>\n",
       "      <th>Vitamin B-6</th>\n",
       "      <th>Folate, total</th>\n",
       "      <th>Vitamin B-12</th>\n",
       "      <th>Vitamin K (phylloquinone)</th>\n",
       "      <th>Cholesterol</th>\n",
       "      <th>Fatty acids, total trans</th>\n",
       "      <th>Fatty acids, total saturated</th>\n",
       "    </tr>\n",
       "  </thead>\n",
       "  <tbody>\n",
       "    <tr>\n",
       "      <td>0</td>\n",
       "      <td>Butter, salted</td>\n",
       "      <td>0.85</td>\n",
       "      <td>0.06</td>\n",
       "      <td>717</td>\n",
       "      <td>15.87</td>\n",
       "      <td>3000.0</td>\n",
       "      <td>24</td>\n",
       "      <td>0.02</td>\n",
       "      <td>2</td>\n",
       "      <td>24</td>\n",
       "      <td>...</td>\n",
       "      <td>0.034</td>\n",
       "      <td>0.042</td>\n",
       "      <td>0.11</td>\n",
       "      <td>0.003</td>\n",
       "      <td>3</td>\n",
       "      <td>0.17</td>\n",
       "      <td>7</td>\n",
       "      <td>215.0</td>\n",
       "      <td>NaN</td>\n",
       "      <td>51.368</td>\n",
       "    </tr>\n",
       "    <tr>\n",
       "      <td>1</td>\n",
       "      <td>Butter, whipped, with salt</td>\n",
       "      <td>0.85</td>\n",
       "      <td>0.06</td>\n",
       "      <td>717</td>\n",
       "      <td>15.87</td>\n",
       "      <td>2999.0</td>\n",
       "      <td>24</td>\n",
       "      <td>0.16</td>\n",
       "      <td>2</td>\n",
       "      <td>23</td>\n",
       "      <td>...</td>\n",
       "      <td>0.034</td>\n",
       "      <td>0.042</td>\n",
       "      <td>0.11</td>\n",
       "      <td>0.003</td>\n",
       "      <td>3</td>\n",
       "      <td>0.13</td>\n",
       "      <td>7</td>\n",
       "      <td>219.0</td>\n",
       "      <td>NaN</td>\n",
       "      <td>50.489</td>\n",
       "    </tr>\n",
       "    <tr>\n",
       "      <td>2</td>\n",
       "      <td>Butter oil, anhydrous</td>\n",
       "      <td>0.28</td>\n",
       "      <td>0</td>\n",
       "      <td>876</td>\n",
       "      <td>0.24</td>\n",
       "      <td>3665.0</td>\n",
       "      <td>4</td>\n",
       "      <td>0</td>\n",
       "      <td>0</td>\n",
       "      <td>3</td>\n",
       "      <td>...</td>\n",
       "      <td>0.005</td>\n",
       "      <td>0.003</td>\n",
       "      <td>0.01</td>\n",
       "      <td>0.001</td>\n",
       "      <td>0</td>\n",
       "      <td>0.01</td>\n",
       "      <td>8.6</td>\n",
       "      <td>256.0</td>\n",
       "      <td>NaN</td>\n",
       "      <td>61.924</td>\n",
       "    </tr>\n",
       "    <tr>\n",
       "      <td>3</td>\n",
       "      <td>Cheese, blue</td>\n",
       "      <td>21.4</td>\n",
       "      <td>2.34</td>\n",
       "      <td>353</td>\n",
       "      <td>42.41</td>\n",
       "      <td>1477.0</td>\n",
       "      <td>528</td>\n",
       "      <td>0.31</td>\n",
       "      <td>23</td>\n",
       "      <td>387</td>\n",
       "      <td>...</td>\n",
       "      <td>0.382</td>\n",
       "      <td>1.016</td>\n",
       "      <td>1.729</td>\n",
       "      <td>0.166</td>\n",
       "      <td>36</td>\n",
       "      <td>1.22</td>\n",
       "      <td>2.4</td>\n",
       "      <td>75.0</td>\n",
       "      <td>NaN</td>\n",
       "      <td>18.669</td>\n",
       "    </tr>\n",
       "    <tr>\n",
       "      <td>4</td>\n",
       "      <td>Cheese, brick</td>\n",
       "      <td>23.24</td>\n",
       "      <td>2.79</td>\n",
       "      <td>371</td>\n",
       "      <td>41.11</td>\n",
       "      <td>1552.0</td>\n",
       "      <td>674</td>\n",
       "      <td>0.43</td>\n",
       "      <td>24</td>\n",
       "      <td>451</td>\n",
       "      <td>...</td>\n",
       "      <td>0.351</td>\n",
       "      <td>0.118</td>\n",
       "      <td>0.288</td>\n",
       "      <td>0.065</td>\n",
       "      <td>20</td>\n",
       "      <td>1.26</td>\n",
       "      <td>2.5</td>\n",
       "      <td>94.0</td>\n",
       "      <td>NaN</td>\n",
       "      <td>18.764</td>\n",
       "    </tr>\n",
       "  </tbody>\n",
       "</table>\n",
       "<p>5 rows × 31 columns</p>\n",
       "</div>"
      ],
      "text/plain": [
       "                    Long_Desc Protein Carbohydrate, by difference Energy  \\\n",
       "0              Butter, salted    0.85                        0.06    717   \n",
       "1  Butter, whipped, with salt    0.85                        0.06    717   \n",
       "2       Butter oil, anhydrous    0.28                           0    876   \n",
       "3                Cheese, blue    21.4                        2.34    353   \n",
       "4               Cheese, brick   23.24                        2.79    371   \n",
       "\n",
       "   Water  Energy.1 Calcium, Ca Iron, Fe Magnesium, Mg Phosphorus, P  ...  \\\n",
       "0  15.87    3000.0          24     0.02             2            24  ...   \n",
       "1  15.87    2999.0          24     0.16             2            23  ...   \n",
       "2   0.24    3665.0           4        0             0             3  ...   \n",
       "3  42.41    1477.0         528     0.31            23           387  ...   \n",
       "4  41.11    1552.0         674     0.43            24           451  ...   \n",
       "\n",
       "  Riboflavin Niacin Pantothenic acid Vitamin B-6 Folate, total Vitamin B-12  \\\n",
       "0      0.034  0.042             0.11       0.003             3         0.17   \n",
       "1      0.034  0.042             0.11       0.003             3         0.13   \n",
       "2      0.005  0.003             0.01       0.001             0         0.01   \n",
       "3      0.382  1.016            1.729       0.166            36         1.22   \n",
       "4      0.351  0.118            0.288       0.065            20         1.26   \n",
       "\n",
       "  Vitamin K (phylloquinone) Cholesterol Fatty acids, total trans  \\\n",
       "0                         7       215.0                      NaN   \n",
       "1                         7       219.0                      NaN   \n",
       "2                       8.6       256.0                      NaN   \n",
       "3                       2.4        75.0                      NaN   \n",
       "4                       2.5        94.0                      NaN   \n",
       "\n",
       "  Fatty acids, total saturated  \n",
       "0                       51.368  \n",
       "1                       50.489  \n",
       "2                       61.924  \n",
       "3                       18.669  \n",
       "4                       18.764  \n",
       "\n",
       "[5 rows x 31 columns]"
      ]
     },
     "execution_count": 6,
     "metadata": {},
     "output_type": "execute_result"
    }
   ],
   "source": [
    "diet_large.head()"
   ]
  },
  {
   "cell_type": "code",
   "execution_count": 7,
   "metadata": {},
   "outputs": [],
   "source": [
    "constraints = pd.read_excel('Data 15.2/diet.xls', skiprows=66, header=None).iloc[:,2:]"
   ]
  },
  {
   "cell_type": "code",
   "execution_count": 8,
   "metadata": {},
   "outputs": [
    {
     "data": {
      "text/html": [
       "<div>\n",
       "<style scoped>\n",
       "    .dataframe tbody tr th:only-of-type {\n",
       "        vertical-align: middle;\n",
       "    }\n",
       "\n",
       "    .dataframe tbody tr th {\n",
       "        vertical-align: top;\n",
       "    }\n",
       "\n",
       "    .dataframe thead th {\n",
       "        text-align: right;\n",
       "    }\n",
       "</style>\n",
       "<table border=\"1\" class=\"dataframe\">\n",
       "  <thead>\n",
       "    <tr style=\"text-align: right;\">\n",
       "      <th></th>\n",
       "      <th>2</th>\n",
       "      <th>3</th>\n",
       "      <th>4</th>\n",
       "      <th>5</th>\n",
       "      <th>6</th>\n",
       "      <th>7</th>\n",
       "      <th>8</th>\n",
       "      <th>9</th>\n",
       "      <th>10</th>\n",
       "      <th>11</th>\n",
       "      <th>12</th>\n",
       "      <th>13</th>\n",
       "    </tr>\n",
       "  </thead>\n",
       "  <tbody>\n",
       "    <tr>\n",
       "      <td>0</td>\n",
       "      <td>Minimum daily intake</td>\n",
       "      <td>1500</td>\n",
       "      <td>30</td>\n",
       "      <td>20</td>\n",
       "      <td>800</td>\n",
       "      <td>130</td>\n",
       "      <td>125</td>\n",
       "      <td>60</td>\n",
       "      <td>1000</td>\n",
       "      <td>400</td>\n",
       "      <td>700</td>\n",
       "      <td>10</td>\n",
       "    </tr>\n",
       "    <tr>\n",
       "      <td>1</td>\n",
       "      <td>Maximum daily intake</td>\n",
       "      <td>2500</td>\n",
       "      <td>240</td>\n",
       "      <td>70</td>\n",
       "      <td>2000</td>\n",
       "      <td>450</td>\n",
       "      <td>250</td>\n",
       "      <td>100</td>\n",
       "      <td>10000</td>\n",
       "      <td>5000</td>\n",
       "      <td>1500</td>\n",
       "      <td>40</td>\n",
       "    </tr>\n",
       "  </tbody>\n",
       "</table>\n",
       "</div>"
      ],
      "text/plain": [
       "                     2     3    4   5     6    7    8    9      10    11  \\\n",
       "0  Minimum daily intake  1500   30  20   800  130  125   60   1000   400   \n",
       "1  Maximum daily intake  2500  240  70  2000  450  250  100  10000  5000   \n",
       "\n",
       "     12  13  \n",
       "0   700  10  \n",
       "1  1500  40  "
      ]
     },
     "execution_count": 8,
     "metadata": {},
     "output_type": "execute_result"
    }
   ],
   "source": [
    "constraints"
   ]
  },
  {
   "cell_type": "code",
   "execution_count": 9,
   "metadata": {},
   "outputs": [],
   "source": [
    "constraints.columns = diet.columns[2:]"
   ]
  },
  {
   "cell_type": "code",
   "execution_count": 10,
   "metadata": {},
   "outputs": [
    {
     "data": {
      "text/html": [
       "<div>\n",
       "<style scoped>\n",
       "    .dataframe tbody tr th:only-of-type {\n",
       "        vertical-align: middle;\n",
       "    }\n",
       "\n",
       "    .dataframe tbody tr th {\n",
       "        vertical-align: top;\n",
       "    }\n",
       "\n",
       "    .dataframe thead th {\n",
       "        text-align: right;\n",
       "    }\n",
       "</style>\n",
       "<table border=\"1\" class=\"dataframe\">\n",
       "  <thead>\n",
       "    <tr style=\"text-align: right;\">\n",
       "      <th></th>\n",
       "      <th>Serving Size</th>\n",
       "      <th>Calories</th>\n",
       "      <th>Cholesterol mg</th>\n",
       "      <th>Total_Fat g</th>\n",
       "      <th>Sodium mg</th>\n",
       "      <th>Carbohydrates g</th>\n",
       "      <th>Dietary_Fiber g</th>\n",
       "      <th>Protein g</th>\n",
       "      <th>Vit_A IU</th>\n",
       "      <th>Vit_C IU</th>\n",
       "      <th>Calcium mg</th>\n",
       "      <th>Iron mg</th>\n",
       "    </tr>\n",
       "  </thead>\n",
       "  <tbody>\n",
       "    <tr>\n",
       "      <td>0</td>\n",
       "      <td>Minimum daily intake</td>\n",
       "      <td>1500</td>\n",
       "      <td>30</td>\n",
       "      <td>20</td>\n",
       "      <td>800</td>\n",
       "      <td>130</td>\n",
       "      <td>125</td>\n",
       "      <td>60</td>\n",
       "      <td>1000</td>\n",
       "      <td>400</td>\n",
       "      <td>700</td>\n",
       "      <td>10</td>\n",
       "    </tr>\n",
       "    <tr>\n",
       "      <td>1</td>\n",
       "      <td>Maximum daily intake</td>\n",
       "      <td>2500</td>\n",
       "      <td>240</td>\n",
       "      <td>70</td>\n",
       "      <td>2000</td>\n",
       "      <td>450</td>\n",
       "      <td>250</td>\n",
       "      <td>100</td>\n",
       "      <td>10000</td>\n",
       "      <td>5000</td>\n",
       "      <td>1500</td>\n",
       "      <td>40</td>\n",
       "    </tr>\n",
       "  </tbody>\n",
       "</table>\n",
       "</div>"
      ],
      "text/plain": [
       "           Serving Size  Calories  Cholesterol mg  Total_Fat g  Sodium mg  \\\n",
       "0  Minimum daily intake      1500              30           20        800   \n",
       "1  Maximum daily intake      2500             240           70       2000   \n",
       "\n",
       "   Carbohydrates g  Dietary_Fiber g  Protein g  Vit_A IU  Vit_C IU  \\\n",
       "0              130              125         60      1000       400   \n",
       "1              450              250        100     10000      5000   \n",
       "\n",
       "   Calcium mg  Iron mg  \n",
       "0         700       10  \n",
       "1        1500       40  "
      ]
     },
     "execution_count": 10,
     "metadata": {},
     "output_type": "execute_result"
    }
   ],
   "source": [
    "constraints"
   ]
  },
  {
   "cell_type": "code",
   "execution_count": 11,
   "metadata": {},
   "outputs": [],
   "source": [
    "prob = pulp.LpProblem(\"Diet Problem\", LpMinimize)"
   ]
  },
  {
   "cell_type": "code",
   "execution_count": 12,
   "metadata": {},
   "outputs": [
    {
     "data": {
      "text/plain": [
       "Diet Problem:\n",
       "MINIMIZE\n",
       "None\n",
       "VARIABLES"
      ]
     },
     "execution_count": 12,
     "metadata": {},
     "output_type": "execute_result"
    }
   ],
   "source": [
    "prob"
   ]
  },
  {
   "cell_type": "code",
   "execution_count": 13,
   "metadata": {},
   "outputs": [],
   "source": [
    "food_items = diet['Foods']"
   ]
  },
  {
   "cell_type": "code",
   "execution_count": 14,
   "metadata": {},
   "outputs": [
    {
     "data": {
      "text/plain": [
       "0          Frozen Broccoli\n",
       "1              Carrots,Raw\n",
       "2              Celery, Raw\n",
       "3              Frozen Corn\n",
       "4      Lettuce,Iceberg,Raw\n",
       "              ...         \n",
       "59         Neweng Clamchwd\n",
       "60             Tomato Soup\n",
       "61    New E Clamchwd,W/Mlk\n",
       "62    Crm Mshrm Soup,W/Mlk\n",
       "63    Beanbacn Soup,W/Watr\n",
       "Name: Foods, Length: 64, dtype: object"
      ]
     },
     "execution_count": 14,
     "metadata": {},
     "output_type": "execute_result"
    }
   ],
   "source": [
    "food_items"
   ]
  },
  {
   "cell_type": "code",
   "execution_count": 15,
   "metadata": {},
   "outputs": [],
   "source": [
    "var = LpVariable.dicts(\"Var\", food_items, lowBound=0, cat='Continuous')"
   ]
  },
  {
   "cell_type": "code",
   "execution_count": 16,
   "metadata": {},
   "outputs": [],
   "source": [
    "costs = dict(zip(food_items, diet['Price/ Serving']))"
   ]
  },
  {
   "cell_type": "code",
   "execution_count": 17,
   "metadata": {},
   "outputs": [],
   "source": [
    "prob += lpSum([costs[i]*var[i] for i in food_items])"
   ]
  },
  {
   "cell_type": "code",
   "execution_count": 18,
   "metadata": {},
   "outputs": [],
   "source": [
    "cols = diet.columns[3:]"
   ]
  },
  {
   "cell_type": "code",
   "execution_count": 19,
   "metadata": {},
   "outputs": [],
   "source": [
    "for c in cols:\n",
    "    prob += lpSum([diet[c][i]*var[food_items[i]] for i in range(len(var))]) >= constraints[c][0]\n",
    "    prob += lpSum([diet[c][i]*var[food_items[i]] for i in range(len(var))]) <= constraints[c][1]"
   ]
  },
  {
   "cell_type": "code",
   "execution_count": 20,
   "metadata": {},
   "outputs": [
    {
     "data": {
      "text/plain": [
       "{'Frozen Broccoli': Var_Frozen_Broccoli,\n",
       " 'Carrots,Raw': Var_Carrots,Raw,\n",
       " 'Celery, Raw': Var_Celery,_Raw,\n",
       " 'Frozen Corn': Var_Frozen_Corn,\n",
       " 'Lettuce,Iceberg,Raw': Var_Lettuce,Iceberg,Raw,\n",
       " 'Peppers, Sweet, Raw': Var_Peppers,_Sweet,_Raw,\n",
       " 'Potatoes, Baked': Var_Potatoes,_Baked,\n",
       " 'Tofu': Var_Tofu,\n",
       " 'Roasted Chicken': Var_Roasted_Chicken,\n",
       " 'Spaghetti W/ Sauce': Var_Spaghetti_W__Sauce,\n",
       " 'Tomato,Red,Ripe,Raw': Var_Tomato,Red,Ripe,Raw,\n",
       " 'Apple,Raw,W/Skin': Var_Apple,Raw,W_Skin,\n",
       " 'Banana': Var_Banana,\n",
       " 'Grapes': Var_Grapes,\n",
       " 'Kiwifruit,Raw,Fresh': Var_Kiwifruit,Raw,Fresh,\n",
       " 'Oranges': Var_Oranges,\n",
       " 'Bagels': Var_Bagels,\n",
       " 'Wheat Bread': Var_Wheat_Bread,\n",
       " 'White Bread': Var_White_Bread,\n",
       " 'Oatmeal Cookies': Var_Oatmeal_Cookies,\n",
       " 'Apple Pie': Var_Apple_Pie,\n",
       " 'Chocolate Chip Cookies': Var_Chocolate_Chip_Cookies,\n",
       " 'Butter,Regular': Var_Butter,Regular,\n",
       " 'Cheddar Cheese': Var_Cheddar_Cheese,\n",
       " '3.3% Fat,Whole Milk': Var_3.3%_Fat,Whole_Milk,\n",
       " '2% Lowfat Milk': Var_2%_Lowfat_Milk,\n",
       " 'Skim Milk': Var_Skim_Milk,\n",
       " 'Poached Eggs': Var_Poached_Eggs,\n",
       " 'Scrambled Eggs': Var_Scrambled_Eggs,\n",
       " 'Bologna,Turkey': Var_Bologna,Turkey,\n",
       " 'Frankfurter, Beef': Var_Frankfurter,_Beef,\n",
       " 'Ham,Sliced,Extralean': Var_Ham,Sliced,Extralean,\n",
       " 'Kielbasa,Prk': Var_Kielbasa,Prk,\n",
       " \"Cap'N Crunch\": Var_Cap'N_Crunch,\n",
       " 'Cheerios': Var_Cheerios,\n",
       " \"Corn Flks, Kellogg'S\": Var_Corn_Flks,_Kellogg'S,\n",
       " \"Raisin Brn, Kellg'S\": Var_Raisin_Brn,_Kellg'S,\n",
       " 'Rice Krispies': Var_Rice_Krispies,\n",
       " 'Special K': Var_Special_K,\n",
       " 'Oatmeal': Var_Oatmeal,\n",
       " 'Malt-O-Meal,Choc': Var_Malt_O_Meal,Choc,\n",
       " 'Pizza W/Pepperoni': Var_Pizza_W_Pepperoni,\n",
       " 'Taco': Var_Taco,\n",
       " 'Hamburger W/Toppings': Var_Hamburger_W_Toppings,\n",
       " 'Hotdog, Plain': Var_Hotdog,_Plain,\n",
       " 'Couscous': Var_Couscous,\n",
       " 'White Rice': Var_White_Rice,\n",
       " 'Macaroni,Ckd': Var_Macaroni,Ckd,\n",
       " 'Peanut Butter': Var_Peanut_Butter,\n",
       " 'Pork': Var_Pork,\n",
       " 'Sardines in Oil': Var_Sardines_in_Oil,\n",
       " 'White Tuna in Water': Var_White_Tuna_in_Water,\n",
       " 'Popcorn,Air-Popped': Var_Popcorn,Air_Popped,\n",
       " 'Potato Chips,Bbqflvr': Var_Potato_Chips,Bbqflvr,\n",
       " 'Pretzels': Var_Pretzels,\n",
       " 'Tortilla Chip': Var_Tortilla_Chip,\n",
       " 'Chicknoodl Soup': Var_Chicknoodl_Soup,\n",
       " 'Splt Pea&Hamsoup': Var_Splt_Pea&Hamsoup,\n",
       " 'Vegetbeef Soup': Var_Vegetbeef_Soup,\n",
       " 'Neweng Clamchwd': Var_Neweng_Clamchwd,\n",
       " 'Tomato Soup': Var_Tomato_Soup,\n",
       " 'New E Clamchwd,W/Mlk': Var_New_E_Clamchwd,W_Mlk,\n",
       " 'Crm Mshrm Soup,W/Mlk': Var_Crm_Mshrm_Soup,W_Mlk,\n",
       " 'Beanbacn Soup,W/Watr': Var_Beanbacn_Soup,W_Watr}"
      ]
     },
     "execution_count": 20,
     "metadata": {},
     "output_type": "execute_result"
    }
   ],
   "source": [
    "var"
   ]
  },
  {
   "cell_type": "code",
   "execution_count": 21,
   "metadata": {},
   "outputs": [
    {
     "data": {
      "text/plain": [
       "{'Frozen Broccoli': 0.16,\n",
       " 'Carrots,Raw': 0.07,\n",
       " 'Celery, Raw': 0.04,\n",
       " 'Frozen Corn': 0.18,\n",
       " 'Lettuce,Iceberg,Raw': 0.02,\n",
       " 'Peppers, Sweet, Raw': 0.53,\n",
       " 'Potatoes, Baked': 0.06,\n",
       " 'Tofu': 0.31,\n",
       " 'Roasted Chicken': 0.84,\n",
       " 'Spaghetti W/ Sauce': 0.78,\n",
       " 'Tomato,Red,Ripe,Raw': 0.27,\n",
       " 'Apple,Raw,W/Skin': 0.24,\n",
       " 'Banana': 0.15,\n",
       " 'Grapes': 0.32,\n",
       " 'Kiwifruit,Raw,Fresh': 0.49,\n",
       " 'Oranges': 0.15,\n",
       " 'Bagels': 0.16,\n",
       " 'Wheat Bread': 0.05,\n",
       " 'White Bread': 0.06,\n",
       " 'Oatmeal Cookies': 0.09,\n",
       " 'Apple Pie': 0.16,\n",
       " 'Chocolate Chip Cookies': 0.03,\n",
       " 'Butter,Regular': 0.05,\n",
       " 'Cheddar Cheese': 0.25,\n",
       " '3.3% Fat,Whole Milk': 0.16,\n",
       " '2% Lowfat Milk': 0.23,\n",
       " 'Skim Milk': 0.13,\n",
       " 'Poached Eggs': 0.08,\n",
       " 'Scrambled Eggs': 0.11,\n",
       " 'Bologna,Turkey': 0.15,\n",
       " 'Frankfurter, Beef': 0.27,\n",
       " 'Ham,Sliced,Extralean': 0.33,\n",
       " 'Kielbasa,Prk': 0.15,\n",
       " \"Cap'N Crunch\": 0.31,\n",
       " 'Cheerios': 0.28,\n",
       " \"Corn Flks, Kellogg'S\": 0.28,\n",
       " \"Raisin Brn, Kellg'S\": 0.34,\n",
       " 'Rice Krispies': 0.32,\n",
       " 'Special K': 0.38,\n",
       " 'Oatmeal': 0.82,\n",
       " 'Malt-O-Meal,Choc': 0.52,\n",
       " 'Pizza W/Pepperoni': 0.44,\n",
       " 'Taco': 0.59,\n",
       " 'Hamburger W/Toppings': 0.83,\n",
       " 'Hotdog, Plain': 0.31,\n",
       " 'Couscous': 0.39,\n",
       " 'White Rice': 0.08,\n",
       " 'Macaroni,Ckd': 0.17,\n",
       " 'Peanut Butter': 0.07,\n",
       " 'Pork': 0.81,\n",
       " 'Sardines in Oil': 0.45,\n",
       " 'White Tuna in Water': 0.69,\n",
       " 'Popcorn,Air-Popped': 0.04,\n",
       " 'Potato Chips,Bbqflvr': 0.22,\n",
       " 'Pretzels': 0.12,\n",
       " 'Tortilla Chip': 0.19,\n",
       " 'Chicknoodl Soup': 0.39,\n",
       " 'Splt Pea&Hamsoup': 0.67,\n",
       " 'Vegetbeef Soup': 0.71,\n",
       " 'Neweng Clamchwd': 0.75,\n",
       " 'Tomato Soup': 0.39,\n",
       " 'New E Clamchwd,W/Mlk': 0.99,\n",
       " 'Crm Mshrm Soup,W/Mlk': 0.65,\n",
       " 'Beanbacn Soup,W/Watr': 0.67}"
      ]
     },
     "execution_count": 21,
     "metadata": {},
     "output_type": "execute_result"
    }
   ],
   "source": [
    "costs"
   ]
  },
  {
   "cell_type": "code",
   "execution_count": 22,
   "metadata": {},
   "outputs": [
    {
     "data": {
      "text/plain": [
       "1"
      ]
     },
     "execution_count": 22,
     "metadata": {},
     "output_type": "execute_result"
    }
   ],
   "source": [
    "prob.solve()"
   ]
  },
  {
   "cell_type": "code",
   "execution_count": 23,
   "metadata": {},
   "outputs": [
    {
     "name": "stdout",
     "output_type": "stream",
     "text": [
      "Status: Optimal\n"
     ]
    }
   ],
   "source": [
    "print(\"Status:\", LpStatus[prob.status])"
   ]
  },
  {
   "cell_type": "code",
   "execution_count": 24,
   "metadata": {},
   "outputs": [
    {
     "name": "stdout",
     "output_type": "stream",
     "text": [
      "Var_Celery,_Raw = 52.64371\n",
      "Var_Frozen_Broccoli = 0.25960653\n",
      "Var_Lettuce,Iceberg,Raw = 63.988506\n",
      "Var_Oranges = 2.2929389\n",
      "Var_Poached_Eggs = 0.14184397\n",
      "Var_Popcorn,Air_Popped = 13.869322\n"
     ]
    }
   ],
   "source": [
    "for v in prob.variables():\n",
    "    if v.varValue>0:\n",
    "        print(v.name, \"=\", v.varValue)"
   ]
  },
  {
   "cell_type": "code",
   "execution_count": 25,
   "metadata": {},
   "outputs": [
    {
     "name": "stdout",
     "output_type": "stream",
     "text": [
      "The total cost of this balanced diet is: $4.34\n"
     ]
    }
   ],
   "source": [
    "obj = value(prob.objective)\n",
    "print(\"The total cost of this balanced diet is: ${}\".format(round(obj,2)))"
   ]
  },
  {
   "cell_type": "code",
   "execution_count": 26,
   "metadata": {},
   "outputs": [],
   "source": [
    "selected = LpVariable.dicts(\"Selected\", food_items, lowBound=0, upBound=1, cat=\"Binary\")"
   ]
  },
  {
   "cell_type": "code",
   "execution_count": 27,
   "metadata": {},
   "outputs": [],
   "source": [
    "for i in food_items:\n",
    "    prob += var[i] >= 0.1*selected[i]\n",
    "    prob += var[i] <= 1000001*selected[i]"
   ]
  },
  {
   "cell_type": "code",
   "execution_count": 28,
   "metadata": {},
   "outputs": [],
   "source": [
    "prob += selected['Celery, Raw'] + selected['Frozen Broccoli'] <= 1 "
   ]
  },
  {
   "cell_type": "code",
   "execution_count": 29,
   "metadata": {},
   "outputs": [],
   "source": [
    "meat_items = [\n",
    "       'Bologna,Turkey', 'Frankfurter, Beef','Ham,Sliced,Extralean',\n",
    "       'Hamburger W/Toppings', 'Kielbasa,Prk',\n",
    "       'Pizza W/Pepperoni', 'Poached Eggs',\n",
    "       'Pork', 'Roasted Chicken', 'Sardines in Oil',\n",
    "       'Scrambled Eggs',\n",
    "       'Splt Pea&Hamsoup', 'Vegetbeef Soup',\n",
    "       'White Tuna in Water', 'Chicknoodl Soup']"
   ]
  },
  {
   "cell_type": "code",
   "execution_count": 30,
   "metadata": {},
   "outputs": [],
   "source": [
    "prob += lpSum([selected[i] for i in meat_items]) >= 3"
   ]
  },
  {
   "cell_type": "code",
   "execution_count": 31,
   "metadata": {},
   "outputs": [
    {
     "data": {
      "text/plain": [
       "1"
      ]
     },
     "execution_count": 31,
     "metadata": {},
     "output_type": "execute_result"
    }
   ],
   "source": [
    "prob.solve()"
   ]
  },
  {
   "cell_type": "code",
   "execution_count": 32,
   "metadata": {},
   "outputs": [
    {
     "name": "stdout",
     "output_type": "stream",
     "text": [
      "Status: Optimal\n"
     ]
    }
   ],
   "source": [
    "print(\"Status:\", LpStatus[prob.status])"
   ]
  },
  {
   "cell_type": "code",
   "execution_count": 33,
   "metadata": {},
   "outputs": [
    {
     "name": "stdout",
     "output_type": "stream",
     "text": [
      "Selected_Celery,_Raw = 1.0\n",
      "Selected_Kielbasa,Prk = 1.0\n",
      "Selected_Lettuce,Iceberg,Raw = 1.0\n",
      "Selected_Oranges = 1.0\n",
      "Selected_Peanut_Butter = 1.0\n",
      "Selected_Poached_Eggs = 1.0\n",
      "Selected_Popcorn,Air_Popped = 1.0\n",
      "Selected_Scrambled_Eggs = 1.0\n",
      "Var_Celery,_Raw = 42.399358\n",
      "Var_Kielbasa,Prk = 0.1\n",
      "Var_Lettuce,Iceberg,Raw = 82.802586\n",
      "Var_Oranges = 3.0771841\n",
      "Var_Peanut_Butter = 1.9429716\n",
      "Var_Poached_Eggs = 0.1\n",
      "Var_Popcorn,Air_Popped = 13.223294\n",
      "Var_Scrambled_Eggs = 0.1\n"
     ]
    }
   ],
   "source": [
    "for v in prob.variables():\n",
    "    if v.varValue>0:\n",
    "        print(v.name, \"=\", v.varValue)"
   ]
  },
  {
   "cell_type": "code",
   "execution_count": 34,
   "metadata": {},
   "outputs": [
    {
     "name": "stdout",
     "output_type": "stream",
     "text": [
      "The total cost of this balanced diet is: $4.51\n"
     ]
    }
   ],
   "source": [
    "obj = value(prob.objective)\n",
    "print(\"The total cost of this balanced diet is: ${}\".format(round(obj,2)))"
   ]
  },
  {
   "cell_type": "code",
   "execution_count": null,
   "metadata": {},
   "outputs": [],
   "source": []
  }
 ],
 "metadata": {
  "kernelspec": {
   "display_name": "Python 3",
   "language": "python",
   "name": "python3"
  },
  "language_info": {
   "codemirror_mode": {
    "name": "ipython",
    "version": 3
   },
   "file_extension": ".py",
   "mimetype": "text/x-python",
   "name": "python",
   "nbconvert_exporter": "python",
   "pygments_lexer": "ipython3",
   "version": "3.7.4"
  }
 },
 "nbformat": 4,
 "nbformat_minor": 4
}
